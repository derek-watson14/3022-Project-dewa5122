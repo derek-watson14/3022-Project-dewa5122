{
 "cells": [
  {
   "cell_type": "markdown",
   "metadata": {},
   "source": [
    "# Final Project: Predicting Soccer Tables\n",
    "\n",
    "## Part 1: Topic Introduction and Exploratory Data Analysis"
   ]
  },
  {
   "cell_type": "markdown",
   "metadata": {},
   "source": [
    "### 1. Topic Introduction\n",
    "\n",
    "#### 1a. Why Soccer?\n",
    "\n",
    "For many years now I have been a big fan of soccer, European club soccer and the international game in particular. I follow some other sports, but the so-called *Beautiful Game* garners the lionshare of my attention. Its fluidity, internationality and the high stakes that come with it being the world's most popular sport are what draw me to it. Like any other sport in the modern era, soccer generates a massive amount of data which is used to analyse the game by fans and clubs alike. While there is plenty of on-the-pitch data that one could look at, I have chosen to analyze data about the \"table\" or the standings of a league at a given point in time. \n",
    "\n",
    "Soccer determines a league champion differently then most American sports. Rather then a playoff tournament, the champion is determined entirely by regular season performance. The team with the most \"points\" based on wins, draws and losses at the end of the season will be crowned the league winner. If there are 20 teams in a league for example, each team will play all of the others twice for a total of 38 matches. Winning a match nets three points, drawing nets one and zero points are awarded for a loss. If two teams are tied in points, table position is determined by a statistic called goal differential (GD), which is simply *goals scored - goals against*. In soccer there also exists the concept of relegation, where the bottom two or three teams at the end of the season will be relegated from the league, or dropped down to play at a lower level and replaced with the best teams from that level in the previous season. \n",
    "\n",
    "#### 1b. What are you analyzing?\n",
    "\n",
    "I would like to see based on past data how well goal differential and points at earlier stages of the season can predict what position a team will finish in at the end of the season. So, if a team on matchday ten has 15 points and a -2 goal differential, what is the interval of positions in which they are most likely to finish? Surely based on the law of large numbers it will be on average close to their current position, but how accurate would a prediction be at different stages of the season? After the first matchday position and GD are probably not at all predictive, while on matchday 35 when the season is almost finished position is largely set. At what point in the season can current position predict final position within one palce? Within two places? \n",
    "\n",
    "This is a **regression task**, because I am trying to predict a variable (end of season position) based upon a number of features including current position, goal differential, wins, draws and losses. While end of season position is not a continuous variable, in the project guide it is stated that an **ordinal** discrete variables can also be the target of a regression task."
   ]
  },
  {
   "cell_type": "markdown",
   "metadata": {},
   "source": [
    "\n",
    "### 2. Dataset Introduction\n",
    "\n",
    "I was unable to find a readily available dataset that included weekly tables and not just end-of-season tables. I was able to find that information on a German soccer statistics website called *Transfermarkt.com*, but it was displayed in HTML tables such as the one below. \n",
    "\n",
    "Source citation:\n",
    "```\n",
    "Transfermarkt GmbH &amp; Co. KG. (n.d.). League - Table &amp; Results. Transfermarkt. Retrieved November 1, 2022, from https://www.transfermarkt.com/laliga/spieltagtabelle/wettbewerb/{league_code}?saison_id={year}&amp;spieltag={matchday}\n",
    "```"
   ]
  },
  {
   "cell_type": "markdown",
   "metadata": {},
   "source": [
    "<img src=\"./images/sample-table.png\" height=\"600\"/>"
   ]
  },
  {
   "cell_type": "markdown",
   "metadata": {},
   "source": [
    "#### 2a. Creating the dataset\n",
    "\n",
    "Luckily, the tables were located at easy to parse URLs such as:\n",
    "```\n",
    "https://www.transfermarkt.com/laliga/spieltagtabelle/wettbewerb/GB1?saison_id=2017&spieltag=22\n",
    "```\n",
    "The league, season and matchday are all included as URL parameters. I could use a web scraping library like `Scrapy` to download the pages several thousand pages and another library like `BeautifulSoup` to parse the HTML and transform the data into a CSV row for each row of each table. Even the result of the season regarding relagation and Champions league qualification was codified by hex color code and could be translated to more data\\*, which I called a team's \"Fate\".\n",
    "\n",
    "Leagues will occasionally change the number of teams in the league, the last time such a change was made across Europe's \"Big Five\" leagues (the top level leagues of Spain, England, Germany, Italy, France) was in 2004. To keep league size consistent across years, I chose 2004 as my first year of analysis. So I downloaded 18 years of data total.\n",
    "\n",
    "A few columns were added that weren't there in the original dataset, first a boolean column was added to indicate if that row belongs to a \"Final Table\" or a table from the end of the season. Second another column was added to indicate where the team from that row ended that season, called \"EOS Position\" (EOS meaning end of season)."
   ]
  },
  {
   "cell_type": "markdown",
   "metadata": {},
   "source": [
    "\\*The number of teams from each league that qualify for European interleague play changes each year for each league and is determined based on the UEFA Association Club Coefficients. If I were to try and predict the \"Fate\" of a current club based on past data, it would make the most sense to use the **current** qualification standards, and not the ones in this table. The fate column is only relevant at all if I choose to try and predict the fate of a team rather than it's position based on table statistics fromn the current week in my final project."
   ]
  },
  {
   "cell_type": "markdown",
   "metadata": {},
   "source": [
    "The dataset resulting from the webscraping was as follows:"
   ]
  },
  {
   "cell_type": "code",
   "execution_count": 1,
   "metadata": {},
   "outputs": [
    {
     "name": "stdout",
     "output_type": "stream",
     "text": [
      "Shape: 65736 rows, 17 columns\n",
      "Features:\n",
      " Index(['Country', 'League', 'Year', 'Club', 'Matchday', 'Position', 'Fate',\n",
      "       'Matches', 'Wins', 'Draws', 'Losses', 'Goals For', 'Goals Against',\n",
      "       'Goal Differential', 'Points', 'Final Table', 'EOS Position'],\n",
      "      dtype='object')\n"
     ]
    }
   ],
   "source": [
    "import numpy as np\n",
    "import pandas as pd\n",
    "import scipy.stats as st\n",
    "import matplotlib.pyplot as plt\n",
    "\n",
    "df = pd.read_csv('./data-retrieval/data/table_data.csv')\n",
    "\n",
    "rows, columns = df.shape\n",
    "\n",
    "print(f\"Shape: {rows} rows, {columns} columns\")\n",
    "print(\"Features:\\n\", df.columns)"
   ]
  },
  {
   "cell_type": "code",
   "execution_count": 2,
   "metadata": {},
   "outputs": [
    {
     "data": {
      "text/html": [
       "<div>\n",
       "<style scoped>\n",
       "    .dataframe tbody tr th:only-of-type {\n",
       "        vertical-align: middle;\n",
       "    }\n",
       "\n",
       "    .dataframe tbody tr th {\n",
       "        vertical-align: top;\n",
       "    }\n",
       "\n",
       "    .dataframe thead th {\n",
       "        text-align: right;\n",
       "    }\n",
       "</style>\n",
       "<table border=\"1\" class=\"dataframe\">\n",
       "  <thead>\n",
       "    <tr style=\"text-align: right;\">\n",
       "      <th></th>\n",
       "      <th>Country</th>\n",
       "      <th>League</th>\n",
       "      <th>Year</th>\n",
       "      <th>Club</th>\n",
       "      <th>Matchday</th>\n",
       "      <th>Position</th>\n",
       "      <th>Fate</th>\n",
       "      <th>Matches</th>\n",
       "      <th>Wins</th>\n",
       "      <th>Draws</th>\n",
       "      <th>Losses</th>\n",
       "      <th>Goals For</th>\n",
       "      <th>Goals Against</th>\n",
       "      <th>Goal Differential</th>\n",
       "      <th>Points</th>\n",
       "      <th>Final Table</th>\n",
       "      <th>EOS Position</th>\n",
       "    </tr>\n",
       "  </thead>\n",
       "  <tbody>\n",
       "    <tr>\n",
       "      <th>0</th>\n",
       "      <td>Spain</td>\n",
       "      <td>La Liga</td>\n",
       "      <td>2004</td>\n",
       "      <td>Real Zaragoza</td>\n",
       "      <td>1</td>\n",
       "      <td>1</td>\n",
       "      <td>League Winner</td>\n",
       "      <td>1</td>\n",
       "      <td>1</td>\n",
       "      <td>0</td>\n",
       "      <td>0</td>\n",
       "      <td>3</td>\n",
       "      <td>1</td>\n",
       "      <td>2</td>\n",
       "      <td>3</td>\n",
       "      <td>False</td>\n",
       "      <td>12</td>\n",
       "    </tr>\n",
       "    <tr>\n",
       "      <th>1</th>\n",
       "      <td>Spain</td>\n",
       "      <td>La Liga</td>\n",
       "      <td>2004</td>\n",
       "      <td>Atlético de Madrid</td>\n",
       "      <td>1</td>\n",
       "      <td>2</td>\n",
       "      <td>Champions League</td>\n",
       "      <td>1</td>\n",
       "      <td>1</td>\n",
       "      <td>0</td>\n",
       "      <td>0</td>\n",
       "      <td>2</td>\n",
       "      <td>0</td>\n",
       "      <td>2</td>\n",
       "      <td>3</td>\n",
       "      <td>False</td>\n",
       "      <td>11</td>\n",
       "    </tr>\n",
       "    <tr>\n",
       "      <th>2</th>\n",
       "      <td>Spain</td>\n",
       "      <td>La Liga</td>\n",
       "      <td>2004</td>\n",
       "      <td>FC Barcelona</td>\n",
       "      <td>1</td>\n",
       "      <td>2</td>\n",
       "      <td>Champions League</td>\n",
       "      <td>1</td>\n",
       "      <td>1</td>\n",
       "      <td>0</td>\n",
       "      <td>0</td>\n",
       "      <td>2</td>\n",
       "      <td>0</td>\n",
       "      <td>2</td>\n",
       "      <td>3</td>\n",
       "      <td>False</td>\n",
       "      <td>1</td>\n",
       "    </tr>\n",
       "    <tr>\n",
       "      <th>3</th>\n",
       "      <td>Spain</td>\n",
       "      <td>La Liga</td>\n",
       "      <td>2004</td>\n",
       "      <td>Valencia CF</td>\n",
       "      <td>1</td>\n",
       "      <td>4</td>\n",
       "      <td>Champions League</td>\n",
       "      <td>1</td>\n",
       "      <td>1</td>\n",
       "      <td>0</td>\n",
       "      <td>0</td>\n",
       "      <td>2</td>\n",
       "      <td>1</td>\n",
       "      <td>1</td>\n",
       "      <td>3</td>\n",
       "      <td>False</td>\n",
       "      <td>7</td>\n",
       "    </tr>\n",
       "    <tr>\n",
       "      <th>4</th>\n",
       "      <td>Spain</td>\n",
       "      <td>La Liga</td>\n",
       "      <td>2004</td>\n",
       "      <td>Sevilla FC</td>\n",
       "      <td>1</td>\n",
       "      <td>5</td>\n",
       "      <td>Other European Football</td>\n",
       "      <td>1</td>\n",
       "      <td>1</td>\n",
       "      <td>0</td>\n",
       "      <td>0</td>\n",
       "      <td>1</td>\n",
       "      <td>0</td>\n",
       "      <td>1</td>\n",
       "      <td>3</td>\n",
       "      <td>False</td>\n",
       "      <td>6</td>\n",
       "    </tr>\n",
       "    <tr>\n",
       "      <th>5</th>\n",
       "      <td>Spain</td>\n",
       "      <td>La Liga</td>\n",
       "      <td>2004</td>\n",
       "      <td>Real Madrid</td>\n",
       "      <td>1</td>\n",
       "      <td>5</td>\n",
       "      <td>Other European Football</td>\n",
       "      <td>1</td>\n",
       "      <td>1</td>\n",
       "      <td>0</td>\n",
       "      <td>0</td>\n",
       "      <td>1</td>\n",
       "      <td>0</td>\n",
       "      <td>1</td>\n",
       "      <td>3</td>\n",
       "      <td>False</td>\n",
       "      <td>2</td>\n",
       "    </tr>\n",
       "    <tr>\n",
       "      <th>6</th>\n",
       "      <td>Spain</td>\n",
       "      <td>La Liga</td>\n",
       "      <td>2004</td>\n",
       "      <td>Levante UD</td>\n",
       "      <td>1</td>\n",
       "      <td>7</td>\n",
       "      <td>Mid Table</td>\n",
       "      <td>1</td>\n",
       "      <td>0</td>\n",
       "      <td>1</td>\n",
       "      <td>0</td>\n",
       "      <td>1</td>\n",
       "      <td>1</td>\n",
       "      <td>0</td>\n",
       "      <td>1</td>\n",
       "      <td>False</td>\n",
       "      <td>18</td>\n",
       "    </tr>\n",
       "  </tbody>\n",
       "</table>\n",
       "</div>"
      ],
      "text/plain": [
       "  Country   League  Year                Club  Matchday  Position  \\\n",
       "0   Spain  La Liga  2004       Real Zaragoza         1         1   \n",
       "1   Spain  La Liga  2004  Atlético de Madrid         1         2   \n",
       "2   Spain  La Liga  2004        FC Barcelona         1         2   \n",
       "3   Spain  La Liga  2004         Valencia CF         1         4   \n",
       "4   Spain  La Liga  2004          Sevilla FC         1         5   \n",
       "5   Spain  La Liga  2004         Real Madrid         1         5   \n",
       "6   Spain  La Liga  2004          Levante UD         1         7   \n",
       "\n",
       "                      Fate  Matches  Wins  Draws  Losses  Goals For  \\\n",
       "0            League Winner        1     1      0       0          3   \n",
       "1         Champions League        1     1      0       0          2   \n",
       "2         Champions League        1     1      0       0          2   \n",
       "3         Champions League        1     1      0       0          2   \n",
       "4  Other European Football        1     1      0       0          1   \n",
       "5  Other European Football        1     1      0       0          1   \n",
       "6                Mid Table        1     0      1       0          1   \n",
       "\n",
       "   Goals Against  Goal Differential  Points  Final Table  EOS Position  \n",
       "0              1                  2       3        False            12  \n",
       "1              0                  2       3        False            11  \n",
       "2              0                  2       3        False             1  \n",
       "3              1                  1       3        False             7  \n",
       "4              0                  1       3        False             6  \n",
       "5              0                  1       3        False             2  \n",
       "6              1                  0       1        False            18  "
      ]
     },
     "execution_count": 2,
     "metadata": {},
     "output_type": "execute_result"
    }
   ],
   "source": [
    "df.head(7)"
   ]
  },
  {
   "cell_type": "markdown",
   "metadata": {},
   "source": [
    "#### 2b. Verifying dataset is accurate with summary stats\n",
    "\n",
    "To quickly verify that this dataset is at least somewhat accurate, I can check that a number of summary statistics look how I would expect them to:\n",
    "\n",
    "- The sum of the Wins column should be equal to the sum of the Losses column\n",
    "- The sum of Wins, Losses and Draws should equal the sum of the matches\n",
    "- The sum of the Goal Differential column should be equal to zero\n",
    "- The count of teams at each position at the end of a season should be uniformly distributed"
   ]
  },
  {
   "cell_type": "code",
   "execution_count": 3,
   "metadata": {},
   "outputs": [
    {
     "name": "stdout",
     "output_type": "stream",
     "text": [
      "Total wins: 463998 | Total losses: 463998 | Equal? Yes\n",
      "\n",
      "Wins + Losses + Draws: 1258700 | Matches: 1258700 | Equal? Yes\n",
      "\n",
      "Goal differential sum: 0\n",
      "\n",
      "Total number teams in each position at end of each season (for four 20-team leagues):\n",
      "1     72\n",
      "2     72\n",
      "3     72\n",
      "4     72\n",
      "5     72\n",
      "6     72\n",
      "7     72\n",
      "8     72\n",
      "9     72\n",
      "10    72\n",
      "11    72\n",
      "12    72\n",
      "13    72\n",
      "14    72\n",
      "15    72\n",
      "16    72\n",
      "17    72\n",
      "18    72\n",
      "19    72\n",
      "20    72\n",
      "Name: Position, dtype: int64\n",
      "\n",
      "Total number of teams in each position at end of each season (for one 18-team league):\n",
      "1     18\n",
      "2     18\n",
      "3     18\n",
      "4     18\n",
      "5     18\n",
      "6     18\n",
      "7     18\n",
      "8     18\n",
      "9     18\n",
      "10    18\n",
      "11    18\n",
      "12    18\n",
      "13    18\n",
      "14    18\n",
      "15    18\n",
      "16    18\n",
      "17    18\n",
      "18    18\n",
      "Name: Position, dtype: int64\n"
     ]
    }
   ],
   "source": [
    "wins, losses, draws, matches = df['Wins'].sum(), df['Losses'].sum(), df['Draws'].sum(), df['Matches'].sum()\n",
    "print(f\"Total wins: {wins} | Total losses: {losses} | Equal? {'Yes' if wins == losses else 'No'}\\n\")\n",
    "print(f\"Wins + Losses + Draws: {wins+losses+draws} | Matches: {matches} | Equal? {'Yes' if wins+losses+draws == matches else 'No'}\\n\")\n",
    "print(f\"Goal differential sum: {df['Goal Differential'].sum()}\\n\")\n",
    "print(\"Total number teams in each position at end of each season (for four 20-team leagues):\")\n",
    "print(df[(df['Country'].isin([\"England\", \"France\", \"Italy\", \"Spain\"])) & (df['Matchday'] == 38)]['Position'].value_counts().sort_index())\n",
    "print(\"\\nTotal number of teams in each position at end of each season (for one 18-team league):\")\n",
    "print(df[(df['Country'] == \"Germany\") & (df['Matchday'] == 34)]['Position'].value_counts().sort_index())"
   ]
  },
  {
   "cell_type": "markdown",
   "metadata": {},
   "source": [
    "These summary statistics indicate but don't guarantee that the dataset is accurate and complete, with matches, goals and final positions being symmetrical across all 90 seasons being analyzed."
   ]
  },
  {
   "cell_type": "markdown",
   "metadata": {},
   "source": [
    "#### 2c. Looking at each feature\n",
    "\n",
    "Some of the features do not need to be plotted to be understood. Since each country has only one league, the `Country` and `League` features essentially represent the same thing: for what league are the statistics in this row from? \n",
    "\n",
    "The countries and their respective leagues are:\n",
    "   - **Germany**: Bundesliga\n",
    "   - **England**: Premier Leauge\n",
    "   - **Spain**: La Liga\n",
    "   - **Italy**: Serie A\n",
    "   - **France**: Ligue 1\n",
    "\n",
    "The `Year` features represents the season for that row. The season *begins* in the year stated in the column, so 2004 represents the 2004/05 season. There are 18 full seasons in this dataset 2004/05 - 2021/22."
   ]
  },
  {
   "cell_type": "markdown",
   "metadata": {},
   "source": [
    "The `Club` feature is the name of the team for the given row, some teams appear more than others. 684 appearences means a team is in every table, 34 or 38 appearences means the team was only in the league for one season."
   ]
  },
  {
   "cell_type": "code",
   "execution_count": 4,
   "metadata": {},
   "outputs": [
    {
     "data": {
      "text/plain": [
       "Text(0, 0.5, 'Clubs with that many seasons in league')"
      ]
     },
     "execution_count": 4,
     "metadata": {},
     "output_type": "execute_result"
    },
    {
     "data": {
      "image/png": "[encoded data removed]",
      "text/plain": [
       "<Figure size 640x480 with 1 Axes>"
      ]
     },
     "metadata": {},
     "output_type": "display_data"
    }
   ],
   "source": [
    "seasons_played = df[df[\"Final Table\"] == True][\"Club\"].value_counts()\n",
    "\n",
    "plt.hist(seasons_played, bins=9)\n",
    "plt.xticks(np.linspace(1, 18, 18))\n",
    "plt.xlabel(\"Number of seasons in league\")\n",
    "plt.ylabel(\"Clubs with that many seasons in league\")"
   ]
  },
  {
   "cell_type": "markdown",
   "metadata": {},
   "source": [
    "One can see that there were many clubs with only one or two appearances in a top league and many clubs who have played almost every season in the top league."
   ]
  },
  {
   "cell_type": "markdown",
   "metadata": {},
   "source": [
    "The `Matchday` feature indicates which week of the season that row represents, from matchday 1 (the first week of the season to matchday 38, the last week. Note that the German league only has 18 teams, so only has 34 matchdays. This is not an interesting feature to graph. The `Matches` feature should always be equal to the `Matchday` feature and represents the count of matches played to that point.\n",
    "\n",
    "`Position` represents the table position of the club for the given matchday and year. This is one of the features that will be used to predict final table position, obviously as the season gets closer to the end, position will be a greater predictor of final position. This is also not interesting to chart on its own because it is uniform."
   ]
  },
  {
   "cell_type": "markdown",
   "metadata": {},
   "source": [
    "`Fate` is the end result of the season for the club were the season to end on this matchday. The following results are possible:\n",
    "   - **League Winner**: League champions for that season\n",
    "   - **Champions League**: Qualification to play in highest interleauge competition the following year\n",
    "   - **Other European Football**: Qualification to play in lower-level interleauge competition the following year\n",
    "   - **Mid Table**: Remain in league following season\n",
    "   - **Relegation Playoff**: Play special game to determine if they remain in league (only in Germany)\n",
    "   - **Direct Relegation**: Sent directly to lower league"
   ]
  },
  {
   "cell_type": "code",
   "execution_count": 5,
   "metadata": {},
   "outputs": [
    {
     "data": {
      "text/plain": [
       "<AxesSubplot: xlabel='Fate', ylabel='Frequency'>"
      ]
     },
     "execution_count": 5,
     "metadata": {},
     "output_type": "execute_result"
    },
    {
     "data": {
      "image/png": "[encoded data removed]",
      "text/plain": [
       "<Figure size 640x480 with 1 Axes>"
      ]
     },
     "metadata": {},
     "output_type": "display_data"
    }
   ],
   "source": [
    "df['Fate'].value_counts(normalize=True).plot(kind='bar', ylabel=\"Frequency\", xlabel=\"Fate\")"
   ]
  },
  {
   "cell_type": "markdown",
   "metadata": {},
   "source": [
    "The majority of teams are mid table, neither relegated nor qualified for higher competition."
   ]
  },
  {
   "cell_type": "markdown",
   "metadata": {},
   "source": [
    "The `Wins`, `Draws` and `Losses` features are predictably the count of wins, draws and loses to that point in the season. Wins of course correlate positively with a better finish."
   ]
  },
  {
   "cell_type": "code",
   "execution_count": 6,
   "metadata": {},
   "outputs": [
    {
     "data": {
      "image/png": "[encoded data removed]",
      "text/plain": [
       "<Figure size 640x480 with 1 Axes>"
      ]
     },
     "metadata": {},
     "output_type": "display_data"
    }
   ],
   "source": [
    "eos_tables = df[df[\"Final Table\"] == True]\n",
    "eos_wins = eos_tables[\"Wins\"]\n",
    "eos_position = eos_tables[\"Position\"]\n",
    "\n",
    "plt.scatter(eos_wins, eos_position)\n",
    "plt.yticks(np.linspace(1,20,20))\n",
    "plt.xlabel(\"Wins\")\n",
    "plt.ylabel(\"Final Position\")\n",
    "plt.gca().invert_yaxis()\n",
    "plt.show()"
   ]
  },
  {
   "cell_type": "code",
   "execution_count": 7,
   "metadata": {},
   "outputs": [
    {
     "data": {
      "text/html": [
       "<div>\n",
       "<style scoped>\n",
       "    .dataframe tbody tr th:only-of-type {\n",
       "        vertical-align: middle;\n",
       "    }\n",
       "\n",
       "    .dataframe tbody tr th {\n",
       "        vertical-align: top;\n",
       "    }\n",
       "\n",
       "    .dataframe thead th {\n",
       "        text-align: right;\n",
       "    }\n",
       "</style>\n",
       "<table border=\"1\" class=\"dataframe\">\n",
       "  <thead>\n",
       "    <tr style=\"text-align: right;\">\n",
       "      <th></th>\n",
       "      <th>Country</th>\n",
       "      <th>League</th>\n",
       "      <th>Year</th>\n",
       "      <th>Club</th>\n",
       "      <th>Matchday</th>\n",
       "      <th>Position</th>\n",
       "      <th>Fate</th>\n",
       "      <th>Matches</th>\n",
       "      <th>Wins</th>\n",
       "      <th>Draws</th>\n",
       "      <th>Losses</th>\n",
       "      <th>Goals For</th>\n",
       "      <th>Goals Against</th>\n",
       "      <th>Goal Differential</th>\n",
       "      <th>Points</th>\n",
       "      <th>Final Table</th>\n",
       "      <th>EOS Position</th>\n",
       "    </tr>\n",
       "  </thead>\n",
       "  <tbody>\n",
       "    <tr>\n",
       "      <th>42435</th>\n",
       "      <td>Italy</td>\n",
       "      <td>Serie A</td>\n",
       "      <td>2005</td>\n",
       "      <td>SS Lazio</td>\n",
       "      <td>38</td>\n",
       "      <td>16</td>\n",
       "      <td>Other European Football</td>\n",
       "      <td>38</td>\n",
       "      <td>16</td>\n",
       "      <td>14</td>\n",
       "      <td>8</td>\n",
       "      <td>57</td>\n",
       "      <td>47</td>\n",
       "      <td>10</td>\n",
       "      <td>32</td>\n",
       "      <td>True</td>\n",
       "      <td>16</td>\n",
       "    </tr>\n",
       "    <tr>\n",
       "      <th>42439</th>\n",
       "      <td>Italy</td>\n",
       "      <td>Serie A</td>\n",
       "      <td>2005</td>\n",
       "      <td>Juventus FC</td>\n",
       "      <td>38</td>\n",
       "      <td>20</td>\n",
       "      <td>Direct Relegation</td>\n",
       "      <td>38</td>\n",
       "      <td>27</td>\n",
       "      <td>10</td>\n",
       "      <td>1</td>\n",
       "      <td>71</td>\n",
       "      <td>24</td>\n",
       "      <td>47</td>\n",
       "      <td>0</td>\n",
       "      <td>True</td>\n",
       "      <td>20</td>\n",
       "    </tr>\n",
       "  </tbody>\n",
       "</table>\n",
       "</div>"
      ],
      "text/plain": [
       "      Country   League  Year         Club  Matchday  Position  \\\n",
       "42435   Italy  Serie A  2005     SS Lazio        38        16   \n",
       "42439   Italy  Serie A  2005  Juventus FC        38        20   \n",
       "\n",
       "                          Fate  Matches  Wins  Draws  Losses  Goals For  \\\n",
       "42435  Other European Football       38    16     14       8         57   \n",
       "42439        Direct Relegation       38    27     10       1         71   \n",
       "\n",
       "       Goals Against  Goal Differential  Points  Final Table  EOS Position  \n",
       "42435             47                 10      32         True            16  \n",
       "42439             24                 47       0         True            20  "
      ]
     },
     "execution_count": 7,
     "metadata": {},
     "output_type": "execute_result"
    }
   ],
   "source": [
    "eos_tables[(eos_tables['Position'] > 15) & (eos_tables['Wins'] > 15)]"
   ]
  },
  {
   "cell_type": "markdown",
   "metadata": {},
   "source": [
    "The one massive outlier here is Italian club Juventus in 2005, who won the league but were implicated in a cheating scandal involving referee selection, and were later relegated. Other outliers can also be explained by this scandal. Lazio was also implicated, finishing with 16 wins but in 16th place and Fiorentina with 22 wins finishing in 9th place."
   ]
  },
  {
   "cell_type": "code",
   "execution_count": 8,
   "metadata": {},
   "outputs": [
    {
     "data": {
      "image/png": "[encoded data removed]",
      "text/plain": [
       "<Figure size 640x480 with 1 Axes>"
      ]
     },
     "metadata": {},
     "output_type": "display_data"
    }
   ],
   "source": [
    "eos_draws = eos_tables[\"Draws\"]\n",
    "\n",
    "plt.scatter(eos_draws, eos_position)\n",
    "plt.yticks(np.linspace(1,20,20))\n",
    "plt.xlabel(\"Draws\")\n",
    "plt.ylabel(\"Final Position\")\n",
    "plt.gca().invert_yaxis()\n",
    "plt.show()"
   ]
  },
  {
   "cell_type": "markdown",
   "metadata": {},
   "source": [
    "One can see above draws do not have the same corelation with table position."
   ]
  },
  {
   "cell_type": "markdown",
   "metadata": {},
   "source": [
    "`Goals For`, `Goals Against` and `Goal Differential` represnet the number of goals scored, conceded and the difference between the two. All three are normally distributed."
   ]
  },
  {
   "cell_type": "code",
   "execution_count": 9,
   "metadata": {},
   "outputs": [
    {
     "data": {
      "text/plain": [
       "<matplotlib.lines.Line2D at 0x2096eb2bca0>"
      ]
     },
     "execution_count": 9,
     "metadata": {},
     "output_type": "execute_result"
    },
    {
     "data": {
      "image/png": "[encoded data removed]",
      "text/plain": [
       "<Figure size 640x480 with 1 Axes>"
      ]
     },
     "metadata": {},
     "output_type": "display_data"
    }
   ],
   "source": [
    "goal_diffs = df[df[\"Final Table\"] == True][\"Goal Differential\"]\n",
    "plt.hist(goal_diffs, bins=30)\n",
    "plt.axvline(goal_diffs.mean(), c='r')"
   ]
  },
  {
   "cell_type": "markdown",
   "metadata": {},
   "source": [
    "The `Points` features represents current number of points at a given matchday in the season. There have been cases of teams being docked points, like as a result of the scandal above, so this value can be negative. These outliers will need to be filtered for analysis."
   ]
  },
  {
   "cell_type": "code",
   "execution_count": 10,
   "metadata": {},
   "outputs": [
    {
     "data": {
      "text/html": [
       "<div>\n",
       "<style scoped>\n",
       "    .dataframe tbody tr th:only-of-type {\n",
       "        vertical-align: middle;\n",
       "    }\n",
       "\n",
       "    .dataframe tbody tr th {\n",
       "        vertical-align: top;\n",
       "    }\n",
       "\n",
       "    .dataframe thead th {\n",
       "        text-align: right;\n",
       "    }\n",
       "</style>\n",
       "<table border=\"1\" class=\"dataframe\">\n",
       "  <thead>\n",
       "    <tr style=\"text-align: right;\">\n",
       "      <th></th>\n",
       "      <th>Country</th>\n",
       "      <th>League</th>\n",
       "      <th>Year</th>\n",
       "      <th>Club</th>\n",
       "      <th>Matchday</th>\n",
       "      <th>Position</th>\n",
       "      <th>Fate</th>\n",
       "      <th>Matches</th>\n",
       "      <th>Wins</th>\n",
       "      <th>Draws</th>\n",
       "      <th>Losses</th>\n",
       "      <th>Goals For</th>\n",
       "      <th>Goals Against</th>\n",
       "      <th>Goal Differential</th>\n",
       "      <th>Points</th>\n",
       "      <th>Final Table</th>\n",
       "      <th>EOS Position</th>\n",
       "    </tr>\n",
       "  </thead>\n",
       "  <tbody>\n",
       "    <tr>\n",
       "      <th>7619</th>\n",
       "      <td>Spain</td>\n",
       "      <td>La Liga</td>\n",
       "      <td>2014</td>\n",
       "      <td>UD Almería</td>\n",
       "      <td>1</td>\n",
       "      <td>20</td>\n",
       "      <td>Direct Relegation</td>\n",
       "      <td>1</td>\n",
       "      <td>0</td>\n",
       "      <td>1</td>\n",
       "      <td>0</td>\n",
       "      <td>1</td>\n",
       "      <td>1</td>\n",
       "      <td>0</td>\n",
       "      <td>-2</td>\n",
       "      <td>False</td>\n",
       "      <td>19</td>\n",
       "    </tr>\n",
       "    <tr>\n",
       "      <th>7839</th>\n",
       "      <td>Spain</td>\n",
       "      <td>La Liga</td>\n",
       "      <td>2014</td>\n",
       "      <td>UD Almería</td>\n",
       "      <td>2</td>\n",
       "      <td>20</td>\n",
       "      <td>Direct Relegation</td>\n",
       "      <td>2</td>\n",
       "      <td>0</td>\n",
       "      <td>1</td>\n",
       "      <td>1</td>\n",
       "      <td>1</td>\n",
       "      <td>2</td>\n",
       "      <td>-1</td>\n",
       "      <td>-2</td>\n",
       "      <td>False</td>\n",
       "      <td>19</td>\n",
       "    </tr>\n",
       "    <tr>\n",
       "      <th>8059</th>\n",
       "      <td>Spain</td>\n",
       "      <td>La Liga</td>\n",
       "      <td>2014</td>\n",
       "      <td>UD Almería</td>\n",
       "      <td>3</td>\n",
       "      <td>20</td>\n",
       "      <td>Direct Relegation</td>\n",
       "      <td>3</td>\n",
       "      <td>0</td>\n",
       "      <td>2</td>\n",
       "      <td>1</td>\n",
       "      <td>2</td>\n",
       "      <td>3</td>\n",
       "      <td>-1</td>\n",
       "      <td>-1</td>\n",
       "      <td>False</td>\n",
       "      <td>19</td>\n",
       "    </tr>\n",
       "    <tr>\n",
       "      <th>22819</th>\n",
       "      <td>France</td>\n",
       "      <td>Ligue 1</td>\n",
       "      <td>2016</td>\n",
       "      <td>SC Bastia</td>\n",
       "      <td>1</td>\n",
       "      <td>20</td>\n",
       "      <td>Direct Relegation</td>\n",
       "      <td>1</td>\n",
       "      <td>0</td>\n",
       "      <td>0</td>\n",
       "      <td>1</td>\n",
       "      <td>0</td>\n",
       "      <td>1</td>\n",
       "      <td>-1</td>\n",
       "      <td>-1</td>\n",
       "      <td>False</td>\n",
       "      <td>20</td>\n",
       "    </tr>\n",
       "    <tr>\n",
       "      <th>31179</th>\n",
       "      <td>England</td>\n",
       "      <td>Premier League</td>\n",
       "      <td>2009</td>\n",
       "      <td>Portsmouth FC</td>\n",
       "      <td>1</td>\n",
       "      <td>20</td>\n",
       "      <td>Direct Relegation</td>\n",
       "      <td>1</td>\n",
       "      <td>0</td>\n",
       "      <td>0</td>\n",
       "      <td>1</td>\n",
       "      <td>0</td>\n",
       "      <td>1</td>\n",
       "      <td>-1</td>\n",
       "      <td>-9</td>\n",
       "      <td>False</td>\n",
       "      <td>20</td>\n",
       "    </tr>\n",
       "    <tr>\n",
       "      <th>...</th>\n",
       "      <td>...</td>\n",
       "      <td>...</td>\n",
       "      <td>...</td>\n",
       "      <td>...</td>\n",
       "      <td>...</td>\n",
       "      <td>...</td>\n",
       "      <td>...</td>\n",
       "      <td>...</td>\n",
       "      <td>...</td>\n",
       "      <td>...</td>\n",
       "      <td>...</td>\n",
       "      <td>...</td>\n",
       "      <td>...</td>\n",
       "      <td>...</td>\n",
       "      <td>...</td>\n",
       "      <td>...</td>\n",
       "      <td>...</td>\n",
       "    </tr>\n",
       "    <tr>\n",
       "      <th>52359</th>\n",
       "      <td>Italy</td>\n",
       "      <td>Serie A</td>\n",
       "      <td>2018</td>\n",
       "      <td>Chievo Verona</td>\n",
       "      <td>5</td>\n",
       "      <td>20</td>\n",
       "      <td>Direct Relegation</td>\n",
       "      <td>5</td>\n",
       "      <td>0</td>\n",
       "      <td>2</td>\n",
       "      <td>3</td>\n",
       "      <td>5</td>\n",
       "      <td>13</td>\n",
       "      <td>-8</td>\n",
       "      <td>-1</td>\n",
       "      <td>False</td>\n",
       "      <td>20</td>\n",
       "    </tr>\n",
       "    <tr>\n",
       "      <th>52379</th>\n",
       "      <td>Italy</td>\n",
       "      <td>Serie A</td>\n",
       "      <td>2018</td>\n",
       "      <td>Chievo Verona</td>\n",
       "      <td>6</td>\n",
       "      <td>20</td>\n",
       "      <td>Direct Relegation</td>\n",
       "      <td>6</td>\n",
       "      <td>0</td>\n",
       "      <td>2</td>\n",
       "      <td>4</td>\n",
       "      <td>5</td>\n",
       "      <td>15</td>\n",
       "      <td>-10</td>\n",
       "      <td>-1</td>\n",
       "      <td>False</td>\n",
       "      <td>20</td>\n",
       "    </tr>\n",
       "    <tr>\n",
       "      <th>52399</th>\n",
       "      <td>Italy</td>\n",
       "      <td>Serie A</td>\n",
       "      <td>2018</td>\n",
       "      <td>Chievo Verona</td>\n",
       "      <td>7</td>\n",
       "      <td>20</td>\n",
       "      <td>Direct Relegation</td>\n",
       "      <td>7</td>\n",
       "      <td>0</td>\n",
       "      <td>2</td>\n",
       "      <td>5</td>\n",
       "      <td>5</td>\n",
       "      <td>16</td>\n",
       "      <td>-11</td>\n",
       "      <td>-1</td>\n",
       "      <td>False</td>\n",
       "      <td>20</td>\n",
       "    </tr>\n",
       "    <tr>\n",
       "      <th>52419</th>\n",
       "      <td>Italy</td>\n",
       "      <td>Serie A</td>\n",
       "      <td>2018</td>\n",
       "      <td>Chievo Verona</td>\n",
       "      <td>8</td>\n",
       "      <td>20</td>\n",
       "      <td>Direct Relegation</td>\n",
       "      <td>8</td>\n",
       "      <td>0</td>\n",
       "      <td>2</td>\n",
       "      <td>6</td>\n",
       "      <td>6</td>\n",
       "      <td>19</td>\n",
       "      <td>-13</td>\n",
       "      <td>-1</td>\n",
       "      <td>False</td>\n",
       "      <td>20</td>\n",
       "    </tr>\n",
       "    <tr>\n",
       "      <th>52439</th>\n",
       "      <td>Italy</td>\n",
       "      <td>Serie A</td>\n",
       "      <td>2018</td>\n",
       "      <td>Chievo Verona</td>\n",
       "      <td>9</td>\n",
       "      <td>20</td>\n",
       "      <td>Direct Relegation</td>\n",
       "      <td>9</td>\n",
       "      <td>0</td>\n",
       "      <td>2</td>\n",
       "      <td>7</td>\n",
       "      <td>7</td>\n",
       "      <td>24</td>\n",
       "      <td>-17</td>\n",
       "      <td>-1</td>\n",
       "      <td>False</td>\n",
       "      <td>20</td>\n",
       "    </tr>\n",
       "  </tbody>\n",
       "</table>\n",
       "<p>155 rows × 17 columns</p>\n",
       "</div>"
      ],
      "text/plain": [
       "       Country          League  Year           Club  Matchday  Position  \\\n",
       "7619     Spain         La Liga  2014     UD Almería         1        20   \n",
       "7839     Spain         La Liga  2014     UD Almería         2        20   \n",
       "8059     Spain         La Liga  2014     UD Almería         3        20   \n",
       "22819   France         Ligue 1  2016      SC Bastia         1        20   \n",
       "31179  England  Premier League  2009  Portsmouth FC         1        20   \n",
       "...        ...             ...   ...            ...       ...       ...   \n",
       "52359    Italy         Serie A  2018  Chievo Verona         5        20   \n",
       "52379    Italy         Serie A  2018  Chievo Verona         6        20   \n",
       "52399    Italy         Serie A  2018  Chievo Verona         7        20   \n",
       "52419    Italy         Serie A  2018  Chievo Verona         8        20   \n",
       "52439    Italy         Serie A  2018  Chievo Verona         9        20   \n",
       "\n",
       "                    Fate  Matches  Wins  Draws  Losses  Goals For  \\\n",
       "7619   Direct Relegation        1     0      1       0          1   \n",
       "7839   Direct Relegation        2     0      1       1          1   \n",
       "8059   Direct Relegation        3     0      2       1          2   \n",
       "22819  Direct Relegation        1     0      0       1          0   \n",
       "31179  Direct Relegation        1     0      0       1          0   \n",
       "...                  ...      ...   ...    ...     ...        ...   \n",
       "52359  Direct Relegation        5     0      2       3          5   \n",
       "52379  Direct Relegation        6     0      2       4          5   \n",
       "52399  Direct Relegation        7     0      2       5          5   \n",
       "52419  Direct Relegation        8     0      2       6          6   \n",
       "52439  Direct Relegation        9     0      2       7          7   \n",
       "\n",
       "       Goals Against  Goal Differential  Points  Final Table  EOS Position  \n",
       "7619               1                  0      -2        False            19  \n",
       "7839               2                 -1      -2        False            19  \n",
       "8059               3                 -1      -1        False            19  \n",
       "22819              1                 -1      -1        False            20  \n",
       "31179              1                 -1      -9        False            20  \n",
       "...              ...                ...     ...          ...           ...  \n",
       "52359             13                 -8      -1        False            20  \n",
       "52379             15                -10      -1        False            20  \n",
       "52399             16                -11      -1        False            20  \n",
       "52419             19                -13      -1        False            20  \n",
       "52439             24                -17      -1        False            20  \n",
       "\n",
       "[155 rows x 17 columns]"
      ]
     },
     "execution_count": 10,
     "metadata": {},
     "output_type": "execute_result"
    }
   ],
   "source": [
    "df[df['Points'] < 0]"
   ]
  },
  {
   "cell_type": "code",
   "execution_count": 11,
   "metadata": {},
   "outputs": [
    {
     "data": {
      "text/plain": [
       "22800    5.0\n",
       "23020    4.0\n",
       "dtype: float64"
      ]
     },
     "execution_count": 11,
     "metadata": {},
     "output_type": "execute_result"
    }
   ],
   "source": [
    "df_no = df[df['Points'] > 0]\n",
    "points_per_match = (df_no['Points'] / df_no['Matches']);\n",
    "\n",
    "points_per_match[points_per_match > 3]"
   ]
  },
  {
   "cell_type": "markdown",
   "metadata": {},
   "source": [
    "There are also a very small selection of entries where points per match is > 3, which is impossible by the rules of the game. These will need to be either corrected or omitted as well.\n",
    "\n",
    "Finally there is the `Final Table` feature, which is a meta feature which indicated if a row is from a final matchday, and the feature `EOS Position` which tells the end of season position for a given row. This feature will allow me to see how teams with different mid-season statistics fare at the end of the year. "
   ]
  },
  {
   "cell_type": "code",
   "execution_count": 19,
   "metadata": {},
   "outputs": [
    {
     "data": {
      "text/plain": [
       "Text(0, 0.5, 'Occurrances')"
      ]
     },
     "execution_count": 19,
     "metadata": {},
     "output_type": "execute_result"
    },
    {
     "data": {
      "image/png": "[encoded data removed]",
      "text/plain": [
       "<Figure size 640x480 with 1 Axes>"
      ]
     },
     "metadata": {},
     "output_type": "display_data"
    }
   ],
   "source": [
    "md5_grp = df[df['Matchday'] == 5].groupby(['EOS Position'])\n",
    "winner_positions_md5 = md5_grp.get_group(1)['Position']\n",
    "\n",
    "plt.hist(winner_positions_md5, bins=12, density=True)\n",
    "plt.xticks(np.linspace(1, 13, 13));\n",
    "plt.title(\"Eventual league winners on matchday 5\")\n",
    "plt.xlabel(\"Matchday 5 table position\")\n",
    "plt.ylabel(\"Occurrances\")"
   ]
  },
  {
   "cell_type": "markdown",
   "metadata": {},
   "source": [
    "### 3. Correlations, Hypotheses, Transformations\n",
    "\n",
    "Now that we are familiar with the features of the dataset, I will quickly go over the important correlations and restate my problem and hypothesis in clearer terms. \n",
    "\n",
    "As one would expect, `Goals For`, `Points`, `Goal Differential` and `Wins` all correlate positively with `EOS Position`. The opposite is true of `Goals Against` and `Losses`. This is obvious and you don't need to do an entire project to figure that out.\n",
    "\n",
    "My problem and question I'm trying to answer is this: *using only table statistics, at what point in the season can you predict with a high level of confidence where a club will finish*. It will likely involve analysis like in the histogram above, but also taking goal differential, points, wins and other factors into account. Data will likely need to be transformed for multivariate analysis. \n",
    "\n",
    "My hypothesis is that by about a quarter of the way through the season (around matchday 9) it will already be possible to predict where a team will finish +/- 2 positions, and by halfway it will be possible to predict +/- 1 position.  \n",
    "\n",
    "If I get deeper into this project and it feels uninteresting with only the data I have, I plan to bring in additional features from other sources such as `Stadium Capacity`, `Average Player Age` or last year's EOS position.\n",
    "\n",
    "I'm excited to learn more about regression, and if it seems like the project would benefit from more features or a larger sample (more years) it will be easy to modify my webscraping code to download more data."
   ]
  },
  {
   "cell_type": "markdown",
   "metadata": {},
   "source": [
    "### 3. Bonus\n",
    "\n",
    "I am defining my own project problem in a space that interests me. I have not found information about how table position converges over the course of a season, so I will be answering a question that is not easy to answer with a quick google search. I could not find readily available data to solve the problem, so I created my own large dataset by writing a webscraper. This took additional time and effort beyond simply downloading an existing CSV or other data file. While the problem itself is fairly simple, if further in the project I feel it's too simple I am willing to bring in additional data to make the regression more interesting.\n",
    "\n",
    "**Project Repo Found Here: https://github.com/derek-watson14/3022-Project-dewa5122**"
   ]
  },
  {
   "cell_type": "code",
   "execution_count": null,
   "metadata": {},
   "outputs": [],
   "source": []
  }
 ],
 "metadata": {
  "kernelspec": {
   "display_name": "Python 3 (ipykernel)",
   "language": "python",
   "name": "python3"
  },
  "language_info": {
   "codemirror_mode": {
    "name": "ipython",
    "version": 3
   },
   "file_extension": ".py",
   "mimetype": "text/x-python",
   "name": "python",
   "nbconvert_exporter": "python",
   "pygments_lexer": "ipython3",
   "version": "3.10.1"
  },
  "vscode": {
   "interpreter": {
    "hash": "52eb59783876bcfbd73674135f70218772b928a518e0b6bdca31ef39a84411bc"
   }
  }
 },
 "nbformat": 4,
 "nbformat_minor": 2
}
