{
 "cells": [
  {
   "cell_type": "markdown",
   "id": "bb22b67d",
   "metadata": {},
   "source": [
    "# Final Project: Predicting Football Tables Throughout in the Season"
   ]
  },
  {
   "cell_type": "markdown",
   "id": "70b8a04d",
   "metadata": {},
   "source": [
    "## 1. Topic Introduction\n",
    "\n",
    "### 1a. Why Soccer?\n",
    "\n",
    "For many years now I have been a fan of soccer, European club soccer and the international game in particular. I follow some other sports, but the so-called *Beautiful Game* garners the lionshare of my attention. Its fluidity, internationality and the high stakes are what draw me to it. Like any other sport in the modern era, soccer generates a massive amount of data. While there is plenty of on-the-pitch data that one could look at, I have chosen to analyze data about the \"table\" or the standings of a league at a given point in time. \n",
    "\n",
    "Soccer determines a league champion differently than most American sports. Rather than a playoff tournament, the champion is determined entirely by regular season performance. The team with the most \"points\" based on wins, draws and losses at the end of the season will be crowned the league winner. If there are 20 teams in a league for example, each team will play all of the others twice for a total of 38 matches. Winning a match nets three points, drawing nets one and zero points are awarded for a loss. If two teams are tied in points, table position is determined by a statistic called goal differential (GD), which is simply *goals scored - goals against*. In soccer there also exists the concept of relegation, where the bottom two or three teams at the end of the season will be relegated from the league, or dropped down to play at a lower level and replaced with the best teams from that level in the previous season. \n",
    "\n",
    "### 1b. What are you analyzing?\n",
    "\n",
    "I would like to see based on past data how well goal differential and points at earlier stages of the season can predict what position a team will finish in at the end of the season. So, if a team on matchday ten has 15 points and a -2 goal differential, how accurately can I predict their final position? How much will the accuracy of this prediction improve as the season goes on? After the first matchday position and GD are probably not at all predictive, while on matchday 35 when the season is almost finished position is largely set. At what point in the season can current position predict final position within one palce? Within two places? \n",
    "\n",
    "This is a **regression task**, because I am trying to predict a variable (end of season position) based upon a number of features including current position, points, goal differential, wins, draws, losses and position last season. While end of season position is not a continuous variable, in the project guide it is stated that an **ordinal** discrete variables can also be the target of a regression task."
   ]
  },
  {
   "cell_type": "markdown",
   "id": "32cfa509",
   "metadata": {},
   "source": [
    "## 2. Qualification for Bonus\n",
    "\n",
    "I am defining my own project problem in a space that interests me. I have not found information about how table position converges over the course of a season, so I will be answering a question that is not easy to answer with a quick google search. I could not find readily available data to solve the problem, so I created my own large dataset by writing two webscrapers (see section 3 for more information) and then several programs to parse and combine them into a CSV file format. This took additional time and effort beyond simply downloading an existing CSV or other data file. While the problem itself is simple, it is novel and the results could be surprising.\n",
    "\n",
    "**Project Repo Found Here: https://github.com/derek-watson14/3022-Project-dewa5122**\n",
    "\n",
    "The repo contains the webscrapers written for the project as well as notebooks for each part."
   ]
  },
  {
   "cell_type": "markdown",
   "id": "4f1d02ae",
   "metadata": {},
   "source": [
    "## 3. Data Introduction\n",
    "\n",
    "\n",
    "### 3a. Data Source and Citation\n",
    "\n",
    "I was unable to find a readily available dataset that included weekly tables and not just end-of-season tables. I was able to find that information on a German soccer statistics website called *Transfermarkt.com*, but it was displayed in HTML tables such as the one below. That website also contained information about stadium capacity on a year\n",
    "\n",
    "#### Source Citation\n",
    "```\n",
    "Transfermarkt GmbH &amp; Co. KG. (n.d.). League - Table &amp; Results. Transfermarkt. Retrieved November 1, 2022, from https://www.transfermarkt.com/laliga/spieltagtabelle/wettbewerb/{league_code}?saison_id={year}&amp;spieltag={matchday}\n",
    "```"
   ]
  },
  {
   "cell_type": "markdown",
   "id": "fe4553da",
   "metadata": {},
   "source": [
    "<img src=\"./images/sample-table.png\" height=\"600\"/>"
   ]
  },
  {
   "cell_type": "markdown",
   "id": "f9baf483",
   "metadata": {},
   "source": [
    "#### Creating the Dataset\n",
    "\n",
    "Luckily, the tables were located at easy to parse URLs such as:\n",
    "```\n",
    "https://www.transfermarkt.com/laliga/spieltagtabelle/wettbewerb/GB1?saison_id=2017&spieltag=22\n",
    "```\n",
    "The league, season and matchday are all included as URL parameters. I could use a web scraping library like `Scrapy` to download the several thousand pages and another library like `BeautifulSoup` to parse the HTML and transform the data into a CSV row for each row of each table. Even the result of the season regarding relagation and Champions league qualification was codified by hex color code and could be translated to more data\\*, which I called a team's \"Fate\".\n",
    "\n",
    "Leagues will occasionally change the number of teams in the league, the last time such a change was made across Europe's \"Big Five\" leagues (the top level leagues of Spain, England, Germany, Italy, France) was in 2004. To keep league size consistent across years, I chose 2004 as my first year of analysis. So I downloaded 18 years of data total.\n",
    "\n",
    "A few columns were added that weren't there in the original dataset, first a boolean column was added to indicate if that row belongs to a \"Final Table\" or a table from the end of the season. Second another column was added to indicate where the team from that row ended that season, called \"EOS Position\" (EOS meaning end of season). A final column was added called \"Last Season\" that indicates how a team finished the year before."
   ]
  },
  {
   "cell_type": "markdown",
   "id": "f02c9b68",
   "metadata": {},
   "source": [
    "### 3b. Dataset Overview\n",
    "\n",
    "In this section I will look at the general size of the data and print the schema which lists the data type and a description of each feature of the dataset."
   ]
  },
  {
   "cell_type": "code",
   "execution_count": 1,
   "id": "5c1f9a4c",
   "metadata": {},
   "outputs": [],
   "source": [
    "import numpy as np\n",
    "import pandas as pd\n",
    "import scipy.stats as st\n",
    "import matplotlib.pyplot as plt\n",
    "\n",
    "df = pd.read_csv('./data-retrieval/data/table_data.csv')\n",
    "schema_df = pd.read_csv('./data-retrieval/data/data_schema.csv', index_col='Feature')"
   ]
  },
  {
   "cell_type": "markdown",
   "id": "aeb774d7",
   "metadata": {},
   "source": [
    "#### Size\n",
    "\n",
    "The dataset contains 17 columns and 65736 rows"
   ]
  },
  {
   "cell_type": "code",
   "execution_count": 2,
   "id": "a866c229",
   "metadata": {},
   "outputs": [
    {
     "name": "stdout",
     "output_type": "stream",
     "text": [
      "Shape: 65736 rows, 17 columns\n"
     ]
    }
   ],
   "source": [
    "rows, columns = df.shape\n",
    "\n",
    "print(f\"Shape: {rows} rows, {columns} columns\")"
   ]
  },
  {
   "cell_type": "markdown",
   "id": "7b8a06f8",
   "metadata": {},
   "source": [
    "#### Features\n",
    "\n",
    "There are 9 categorical features and 8 numeric features in the dataset. Many of the categorical features, such as matchday or year or position are expressed as numbers, but are actually categorical. This should be clear with the table below."
   ]
  },
  {
   "cell_type": "code",
   "execution_count": 3,
   "id": "101f1358",
   "metadata": {},
   "outputs": [
    {
     "data": {
      "text/plain": [
       "Categorical    9\n",
       "Numerical      8\n",
       "Name: Feature Type, dtype: int64"
      ]
     },
     "execution_count": 3,
     "metadata": {},
     "output_type": "execute_result"
    }
   ],
   "source": [
    "schema_df['Feature Type'].value_counts()"
   ]
  },
  {
   "cell_type": "code",
   "execution_count": 4,
   "id": "bc5bd040",
   "metadata": {},
   "outputs": [
    {
     "data": {
      "text/html": [
       "<div>\n",
       "<style scoped>\n",
       "    .dataframe tbody tr th:only-of-type {\n",
       "        vertical-align: middle;\n",
       "    }\n",
       "\n",
       "    .dataframe tbody tr th {\n",
       "        vertical-align: top;\n",
       "    }\n",
       "\n",
       "    .dataframe thead th {\n",
       "        text-align: right;\n",
       "    }\n",
       "</style>\n",
       "<table border=\"1\" class=\"dataframe\">\n",
       "  <thead>\n",
       "    <tr style=\"text-align: right;\">\n",
       "      <th></th>\n",
       "      <th>Feature Description</th>\n",
       "      <th>Data Type</th>\n",
       "      <th>Feature Type</th>\n",
       "    </tr>\n",
       "    <tr>\n",
       "      <th>Feature</th>\n",
       "      <th></th>\n",
       "      <th></th>\n",
       "      <th></th>\n",
       "    </tr>\n",
       "  </thead>\n",
       "  <tbody>\n",
       "    <tr>\n",
       "      <th>Country</th>\n",
       "      <td>Country in which matches are played</td>\n",
       "      <td>String</td>\n",
       "      <td>Categorical</td>\n",
       "    </tr>\n",
       "    <tr>\n",
       "      <th>League</th>\n",
       "      <td>League in which matches are played</td>\n",
       "      <td>String</td>\n",
       "      <td>Categorical</td>\n",
       "    </tr>\n",
       "    <tr>\n",
       "      <th>Year</th>\n",
       "      <td>Starting year of season</td>\n",
       "      <td>Integer</td>\n",
       "      <td>Categorical</td>\n",
       "    </tr>\n",
       "    <tr>\n",
       "      <th>Club</th>\n",
       "      <td>Soccer club (team) for this row</td>\n",
       "      <td>String</td>\n",
       "      <td>Categorical</td>\n",
       "    </tr>\n",
       "    <tr>\n",
       "      <th>Matchday</th>\n",
       "      <td>Week of season for this row</td>\n",
       "      <td>Integer</td>\n",
       "      <td>Categorical</td>\n",
       "    </tr>\n",
       "    <tr>\n",
       "      <th>Position</th>\n",
       "      <td>Club's table position on this matchday</td>\n",
       "      <td>Integer</td>\n",
       "      <td>Categorical</td>\n",
       "    </tr>\n",
       "    <tr>\n",
       "      <th>Fate</th>\n",
       "      <td>Result of season in terms of international qua...</td>\n",
       "      <td>String</td>\n",
       "      <td>Categorical</td>\n",
       "    </tr>\n",
       "    <tr>\n",
       "      <th>Matches</th>\n",
       "      <td>Number of matches played by this matchday</td>\n",
       "      <td>Integer</td>\n",
       "      <td>Numerical</td>\n",
       "    </tr>\n",
       "    <tr>\n",
       "      <th>Wins</th>\n",
       "      <td>Matches won up to this matchday</td>\n",
       "      <td>Integer</td>\n",
       "      <td>Numerical</td>\n",
       "    </tr>\n",
       "    <tr>\n",
       "      <th>Draws</th>\n",
       "      <td>Matches drawn up to this matchday</td>\n",
       "      <td>Integer</td>\n",
       "      <td>Numerical</td>\n",
       "    </tr>\n",
       "    <tr>\n",
       "      <th>Losses</th>\n",
       "      <td>Matches lost up to this matchday</td>\n",
       "      <td>Integer</td>\n",
       "      <td>Numerical</td>\n",
       "    </tr>\n",
       "    <tr>\n",
       "      <th>Goals For</th>\n",
       "      <td>Total goals scored in all matches up to this m...</td>\n",
       "      <td>Integer</td>\n",
       "      <td>Numerical</td>\n",
       "    </tr>\n",
       "    <tr>\n",
       "      <th>Goals Against</th>\n",
       "      <td>Total goals conceded in all matches up to this...</td>\n",
       "      <td>Integer</td>\n",
       "      <td>Numerical</td>\n",
       "    </tr>\n",
       "    <tr>\n",
       "      <th>Goal Differential</th>\n",
       "      <td>Goals For - Goals Against</td>\n",
       "      <td>Integer</td>\n",
       "      <td>Numerical</td>\n",
       "    </tr>\n",
       "    <tr>\n",
       "      <th>Points</th>\n",
       "      <td>Total table points for this club on this matchday</td>\n",
       "      <td>Integer</td>\n",
       "      <td>Numerical</td>\n",
       "    </tr>\n",
       "    <tr>\n",
       "      <th>Final Table</th>\n",
       "      <td>Indicates if this row is from a table at end-o...</td>\n",
       "      <td>Boolean</td>\n",
       "      <td>Categorical</td>\n",
       "    </tr>\n",
       "    <tr>\n",
       "      <th>EOS Position</th>\n",
       "      <td>Position of this club this season at end-of-se...</td>\n",
       "      <td>Integer</td>\n",
       "      <td>Categorical</td>\n",
       "    </tr>\n",
       "  </tbody>\n",
       "</table>\n",
       "</div>"
      ],
      "text/plain": [
       "                                                 Feature Description  \\\n",
       "Feature                                                                \n",
       "Country                          Country in which matches are played   \n",
       "League                            League in which matches are played   \n",
       "Year                                         Starting year of season   \n",
       "Club                                 Soccer club (team) for this row   \n",
       "Matchday                                 Week of season for this row   \n",
       "Position                      Club's table position on this matchday   \n",
       "Fate               Result of season in terms of international qua...   \n",
       "Matches                    Number of matches played by this matchday   \n",
       "Wins                                 Matches won up to this matchday   \n",
       "Draws                              Matches drawn up to this matchday   \n",
       "Losses                              Matches lost up to this matchday   \n",
       "Goals For          Total goals scored in all matches up to this m...   \n",
       "Goals Against      Total goals conceded in all matches up to this...   \n",
       "Goal Differential                          Goals For - Goals Against   \n",
       "Points             Total table points for this club on this matchday   \n",
       "Final Table        Indicates if this row is from a table at end-o...   \n",
       "EOS Position       Position of this club this season at end-of-se...   \n",
       "\n",
       "                  Data Type Feature Type  \n",
       "Feature                                   \n",
       "Country              String  Categorical  \n",
       "League               String  Categorical  \n",
       "Year                Integer  Categorical  \n",
       "Club                 String  Categorical  \n",
       "Matchday            Integer  Categorical  \n",
       "Position            Integer  Categorical  \n",
       "Fate                 String  Categorical  \n",
       "Matches             Integer    Numerical  \n",
       "Wins                Integer    Numerical  \n",
       "Draws               Integer    Numerical  \n",
       "Losses              Integer    Numerical  \n",
       "Goals For           Integer    Numerical  \n",
       "Goals Against       Integer    Numerical  \n",
       "Goal Differential   Integer    Numerical  \n",
       "Points              Integer    Numerical  \n",
       "Final Table         Boolean  Categorical  \n",
       "EOS Position        Integer  Categorical  "
      ]
     },
     "execution_count": 4,
     "metadata": {},
     "output_type": "execute_result"
    }
   ],
   "source": [
    "schema_df"
   ]
  },
  {
   "cell_type": "code",
   "execution_count": 5,
   "id": "36435fab",
   "metadata": {},
   "outputs": [
    {
     "data": {
      "text/html": [
       "<div>\n",
       "<style scoped>\n",
       "    .dataframe tbody tr th:only-of-type {\n",
       "        vertical-align: middle;\n",
       "    }\n",
       "\n",
       "    .dataframe tbody tr th {\n",
       "        vertical-align: top;\n",
       "    }\n",
       "\n",
       "    .dataframe thead th {\n",
       "        text-align: right;\n",
       "    }\n",
       "</style>\n",
       "<table border=\"1\" class=\"dataframe\">\n",
       "  <thead>\n",
       "    <tr style=\"text-align: right;\">\n",
       "      <th></th>\n",
       "      <th>Country</th>\n",
       "      <th>League</th>\n",
       "      <th>Year</th>\n",
       "      <th>Club</th>\n",
       "      <th>Matchday</th>\n",
       "      <th>Position</th>\n",
       "      <th>Fate</th>\n",
       "      <th>Matches</th>\n",
       "      <th>Wins</th>\n",
       "      <th>Draws</th>\n",
       "      <th>Losses</th>\n",
       "      <th>Goals For</th>\n",
       "      <th>Goals Against</th>\n",
       "      <th>Goal Differential</th>\n",
       "      <th>Points</th>\n",
       "      <th>Final Table</th>\n",
       "      <th>EOS Position</th>\n",
       "    </tr>\n",
       "  </thead>\n",
       "  <tbody>\n",
       "    <tr>\n",
       "      <th>0</th>\n",
       "      <td>Spain</td>\n",
       "      <td>La Liga</td>\n",
       "      <td>2004</td>\n",
       "      <td>Real Zaragoza</td>\n",
       "      <td>1</td>\n",
       "      <td>1</td>\n",
       "      <td>League Winner</td>\n",
       "      <td>1</td>\n",
       "      <td>1</td>\n",
       "      <td>0</td>\n",
       "      <td>0</td>\n",
       "      <td>3</td>\n",
       "      <td>1</td>\n",
       "      <td>2</td>\n",
       "      <td>3</td>\n",
       "      <td>False</td>\n",
       "      <td>12</td>\n",
       "    </tr>\n",
       "    <tr>\n",
       "      <th>1</th>\n",
       "      <td>Spain</td>\n",
       "      <td>La Liga</td>\n",
       "      <td>2004</td>\n",
       "      <td>Atlético de Madrid</td>\n",
       "      <td>1</td>\n",
       "      <td>2</td>\n",
       "      <td>Champions League</td>\n",
       "      <td>1</td>\n",
       "      <td>1</td>\n",
       "      <td>0</td>\n",
       "      <td>0</td>\n",
       "      <td>2</td>\n",
       "      <td>0</td>\n",
       "      <td>2</td>\n",
       "      <td>3</td>\n",
       "      <td>False</td>\n",
       "      <td>11</td>\n",
       "    </tr>\n",
       "  </tbody>\n",
       "</table>\n",
       "</div>"
      ],
      "text/plain": [
       "  Country   League  Year                Club  Matchday  Position  \\\n",
       "0   Spain  La Liga  2004       Real Zaragoza         1         1   \n",
       "1   Spain  La Liga  2004  Atlético de Madrid         1         2   \n",
       "\n",
       "               Fate  Matches  Wins  Draws  Losses  Goals For  Goals Against  \\\n",
       "0     League Winner        1     1      0       0          3              1   \n",
       "1  Champions League        1     1      0       0          2              0   \n",
       "\n",
       "   Goal Differential  Points  Final Table  EOS Position  \n",
       "0                  2       3        False            12  \n",
       "1                  2       3        False            11  "
      ]
     },
     "execution_count": 5,
     "metadata": {},
     "output_type": "execute_result"
    }
   ],
   "source": [
    "# Head of dataset\n",
    "df.head(2)"
   ]
  },
  {
   "cell_type": "markdown",
   "id": "e15a893d",
   "metadata": {},
   "source": [
    "Because I found many features to be correlated, I decided to make one more that records how many years a team appeared in the dataset. This gives an indication of the financial/"
   ]
  },
  {
   "cell_type": "code",
   "execution_count": null,
   "id": "886960ef",
   "metadata": {},
   "outputs": [],
   "source": []
  },
  {
   "cell_type": "code",
   "execution_count": null,
   "id": "db8b96e3",
   "metadata": {},
   "outputs": [],
   "source": []
  }
 ],
 "metadata": {
  "kernelspec": {
   "display_name": "Python 3 (ipykernel)",
   "language": "python",
   "name": "python3"
  },
  "language_info": {
   "codemirror_mode": {
    "name": "ipython",
    "version": 3
   },
   "file_extension": ".py",
   "mimetype": "text/x-python",
   "name": "python",
   "nbconvert_exporter": "python",
   "pygments_lexer": "ipython3",
   "version": "3.10.1"
  }
 },
 "nbformat": 4,
 "nbformat_minor": 5
}
